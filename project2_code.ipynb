{
 "cells": [
  {
   "cell_type": "code",
   "execution_count": 314,
   "id": "verbal-hearts",
   "metadata": {},
   "outputs": [],
   "source": [
    "from sklearn.tree import DecisionTreeClassifier\n",
    "from sklearn.model_selection import GridSearchCV, train_test_split\n",
    "import pandas as pd\n",
    "import numpy as np"
   ]
  },
  {
   "cell_type": "code",
   "execution_count": 233,
   "id": "intensive-medication",
   "metadata": {},
   "outputs": [
    {
     "data": {
      "text/html": [
       "<div>\n",
       "<style scoped>\n",
       "    .dataframe tbody tr th:only-of-type {\n",
       "        vertical-align: middle;\n",
       "    }\n",
       "\n",
       "    .dataframe tbody tr th {\n",
       "        vertical-align: top;\n",
       "    }\n",
       "\n",
       "    .dataframe thead th {\n",
       "        text-align: right;\n",
       "    }\n",
       "</style>\n",
       "<table border=\"1\" class=\"dataframe\">\n",
       "  <thead>\n",
       "    <tr style=\"text-align: right;\">\n",
       "      <th></th>\n",
       "      <th>Unnamed: 0</th>\n",
       "      <th>종목명</th>\n",
       "      <th>stability_1</th>\n",
       "      <th>profitability</th>\n",
       "      <th>decision</th>\n",
       "    </tr>\n",
       "  </thead>\n",
       "  <tbody>\n",
       "    <tr>\n",
       "      <th>0</th>\n",
       "      <td>0</td>\n",
       "      <td>파미셀</td>\n",
       "      <td>-2.450988</td>\n",
       "      <td>6.871194</td>\n",
       "      <td>0</td>\n",
       "    </tr>\n",
       "    <tr>\n",
       "      <th>1</th>\n",
       "      <td>1</td>\n",
       "      <td>KTis</td>\n",
       "      <td>47.418488</td>\n",
       "      <td>2.951492</td>\n",
       "      <td>0</td>\n",
       "    </tr>\n",
       "    <tr>\n",
       "      <th>2</th>\n",
       "      <td>2</td>\n",
       "      <td>롯데관광개발</td>\n",
       "      <td>-33.779365</td>\n",
       "      <td>-2.553168</td>\n",
       "      <td>0</td>\n",
       "    </tr>\n",
       "    <tr>\n",
       "      <th>3</th>\n",
       "      <td>3</td>\n",
       "      <td>부산주공</td>\n",
       "      <td>2.038447</td>\n",
       "      <td>-7.653198</td>\n",
       "      <td>0</td>\n",
       "    </tr>\n",
       "    <tr>\n",
       "      <th>4</th>\n",
       "      <td>4</td>\n",
       "      <td>더존비즈온</td>\n",
       "      <td>22.651366</td>\n",
       "      <td>7.018523</td>\n",
       "      <td>0</td>\n",
       "    </tr>\n",
       "    <tr>\n",
       "      <th>...</th>\n",
       "      <td>...</td>\n",
       "      <td>...</td>\n",
       "      <td>...</td>\n",
       "      <td>...</td>\n",
       "      <td>...</td>\n",
       "    </tr>\n",
       "    <tr>\n",
       "      <th>215</th>\n",
       "      <td>215</td>\n",
       "      <td>STX엔진</td>\n",
       "      <td>-0.803236</td>\n",
       "      <td>-75.621361</td>\n",
       "      <td>1</td>\n",
       "    </tr>\n",
       "    <tr>\n",
       "      <th>216</th>\n",
       "      <td>216</td>\n",
       "      <td>대양금속</td>\n",
       "      <td>-11.548827</td>\n",
       "      <td>-17.250448</td>\n",
       "      <td>1</td>\n",
       "    </tr>\n",
       "    <tr>\n",
       "      <th>217</th>\n",
       "      <td>217</td>\n",
       "      <td>SG충방</td>\n",
       "      <td>-4.542887</td>\n",
       "      <td>-5.713187</td>\n",
       "      <td>1</td>\n",
       "    </tr>\n",
       "    <tr>\n",
       "      <th>218</th>\n",
       "      <td>218</td>\n",
       "      <td>사조대림</td>\n",
       "      <td>3.947057</td>\n",
       "      <td>-0.287269</td>\n",
       "      <td>1</td>\n",
       "    </tr>\n",
       "    <tr>\n",
       "      <th>219</th>\n",
       "      <td>219</td>\n",
       "      <td>일성신약</td>\n",
       "      <td>-753.948588</td>\n",
       "      <td>9.501908</td>\n",
       "      <td>1</td>\n",
       "    </tr>\n",
       "  </tbody>\n",
       "</table>\n",
       "<p>220 rows × 5 columns</p>\n",
       "</div>"
      ],
      "text/plain": [
       "     Unnamed: 0     종목명  stability_1  profitability  decision\n",
       "0             0     파미셀    -2.450988       6.871194         0\n",
       "1             1    KTis    47.418488       2.951492         0\n",
       "2             2  롯데관광개발   -33.779365      -2.553168         0\n",
       "3             3    부산주공     2.038447      -7.653198         0\n",
       "4             4   더존비즈온    22.651366       7.018523         0\n",
       "..          ...     ...          ...            ...       ...\n",
       "215         215   STX엔진    -0.803236     -75.621361         1\n",
       "216         216    대양금속   -11.548827     -17.250448         1\n",
       "217         217    SG충방    -4.542887      -5.713187         1\n",
       "218         218    사조대림     3.947057      -0.287269         1\n",
       "219         219    일성신약  -753.948588       9.501908         1\n",
       "\n",
       "[220 rows x 5 columns]"
      ]
     },
     "execution_count": 233,
     "metadata": {},
     "output_type": "execute_result"
    }
   ],
   "source": [
    "df = pd.read_csv(\"data_input.csv\")\n",
    "df"
   ]
  },
  {
   "cell_type": "code",
   "execution_count": 240,
   "id": "broken-uzbekistan",
   "metadata": {},
   "outputs": [
    {
     "data": {
      "text/plain": [
       "DecisionTreeClassifier()"
      ]
     },
     "execution_count": 240,
     "metadata": {},
     "output_type": "execute_result"
    }
   ],
   "source": [
    "# 피쳐 2개로 의사결정 트리 모델 사용\n",
    "\n",
    "x = df.iloc[:,2:4]\n",
    "y = df[\"decision\"]\n",
    "\n",
    "\n",
    "\n",
    "X_train, X_test, y_train, y_test = train_test_split(x, y, test_size=0.2, random_state=121)\n",
    "\n",
    "\n",
    "dtree = DecisionTreeClassifier()\n",
    "dtree.fit(X_train,y_train)"
   ]
  },
  {
   "cell_type": "code",
   "execution_count": 241,
   "id": "designing-cancer",
   "metadata": {},
   "outputs": [
    {
     "data": {
      "text/plain": [
       "0.8636363636363636"
      ]
     },
     "execution_count": 241,
     "metadata": {},
     "output_type": "execute_result"
    }
   ],
   "source": [
    "dtree.score(X_test,y_test)"
   ]
  },
  {
   "cell_type": "code",
   "execution_count": 242,
   "id": "graduate-hungary",
   "metadata": {},
   "outputs": [
    {
     "data": {
      "text/plain": [
       "array([[34,  3],\n",
       "       [ 3,  4]], dtype=int64)"
      ]
     },
     "execution_count": 242,
     "metadata": {},
     "output_type": "execute_result"
    }
   ],
   "source": [
    "from sklearn.metrics import confusion_matrix\n",
    "\n",
    "y_pred = dtree.predict(X_test)\n",
    "confusion_matrix(y_test.values, y_pred, labels=[0,1])"
   ]
  },
  {
   "cell_type": "code",
   "execution_count": 164,
   "id": "distant-discount",
   "metadata": {},
   "outputs": [],
   "source": [
    "# 피쳐 6개로 늘려서 의사결정 트리 모델 사용\n",
    "# - > 피쳐 2개보다 스코어가 낮게 나옴."
   ]
  },
  {
   "cell_type": "code",
   "execution_count": 243,
   "id": "buried-evanescence",
   "metadata": {},
   "outputs": [
    {
     "data": {
      "text/html": [
       "<div>\n",
       "<style scoped>\n",
       "    .dataframe tbody tr th:only-of-type {\n",
       "        vertical-align: middle;\n",
       "    }\n",
       "\n",
       "    .dataframe tbody tr th {\n",
       "        vertical-align: top;\n",
       "    }\n",
       "\n",
       "    .dataframe thead th {\n",
       "        text-align: right;\n",
       "    }\n",
       "</style>\n",
       "<table border=\"1\" class=\"dataframe\">\n",
       "  <thead>\n",
       "    <tr style=\"text-align: right;\">\n",
       "      <th></th>\n",
       "      <th>Unnamed: 0</th>\n",
       "      <th>종목명</th>\n",
       "      <th>stability_1</th>\n",
       "      <th>stability_2</th>\n",
       "      <th>profitability</th>\n",
       "      <th>activity_1</th>\n",
       "      <th>activity_2</th>\n",
       "      <th>growthability</th>\n",
       "      <th>decision</th>\n",
       "    </tr>\n",
       "  </thead>\n",
       "  <tbody>\n",
       "    <tr>\n",
       "      <th>0</th>\n",
       "      <td>0</td>\n",
       "      <td>파미셀</td>\n",
       "      <td>-2.450988</td>\n",
       "      <td>-3.844951</td>\n",
       "      <td>6.871194</td>\n",
       "      <td>0.031037</td>\n",
       "      <td>0.167158</td>\n",
       "      <td>14.568</td>\n",
       "      <td>0</td>\n",
       "    </tr>\n",
       "    <tr>\n",
       "      <th>1</th>\n",
       "      <td>1</td>\n",
       "      <td>KTis</td>\n",
       "      <td>47.418488</td>\n",
       "      <td>266.270885</td>\n",
       "      <td>2.951492</td>\n",
       "      <td>0.044119</td>\n",
       "      <td>0.095836</td>\n",
       "      <td>0.044</td>\n",
       "      <td>0</td>\n",
       "    </tr>\n",
       "    <tr>\n",
       "      <th>2</th>\n",
       "      <td>2</td>\n",
       "      <td>롯데관광개발</td>\n",
       "      <td>-33.779365</td>\n",
       "      <td>144.174054</td>\n",
       "      <td>-2.553168</td>\n",
       "      <td>-0.028094</td>\n",
       "      <td>-0.059981</td>\n",
       "      <td>16.265</td>\n",
       "      <td>0</td>\n",
       "    </tr>\n",
       "    <tr>\n",
       "      <th>3</th>\n",
       "      <td>3</td>\n",
       "      <td>부산주공</td>\n",
       "      <td>2.038447</td>\n",
       "      <td>-40.947988</td>\n",
       "      <td>-7.653198</td>\n",
       "      <td>-0.031648</td>\n",
       "      <td>-0.035424</td>\n",
       "      <td>0.377</td>\n",
       "      <td>0</td>\n",
       "    </tr>\n",
       "    <tr>\n",
       "      <th>4</th>\n",
       "      <td>4</td>\n",
       "      <td>더존비즈온</td>\n",
       "      <td>22.651366</td>\n",
       "      <td>92.133610</td>\n",
       "      <td>7.018523</td>\n",
       "      <td>0.091878</td>\n",
       "      <td>0.183502</td>\n",
       "      <td>15.745</td>\n",
       "      <td>0</td>\n",
       "    </tr>\n",
       "    <tr>\n",
       "      <th>...</th>\n",
       "      <td>...</td>\n",
       "      <td>...</td>\n",
       "      <td>...</td>\n",
       "      <td>...</td>\n",
       "      <td>...</td>\n",
       "      <td>...</td>\n",
       "      <td>...</td>\n",
       "      <td>...</td>\n",
       "      <td>...</td>\n",
       "    </tr>\n",
       "    <tr>\n",
       "      <th>215</th>\n",
       "      <td>215</td>\n",
       "      <td>STX엔진</td>\n",
       "      <td>-0.803236</td>\n",
       "      <td>9.853248</td>\n",
       "      <td>-75.621361</td>\n",
       "      <td>-0.045609</td>\n",
       "      <td>-0.043289</td>\n",
       "      <td>-31.665</td>\n",
       "      <td>1</td>\n",
       "    </tr>\n",
       "    <tr>\n",
       "      <th>216</th>\n",
       "      <td>216</td>\n",
       "      <td>대양금속</td>\n",
       "      <td>-11.548827</td>\n",
       "      <td>82.670781</td>\n",
       "      <td>-17.250448</td>\n",
       "      <td>-0.100151</td>\n",
       "      <td>-0.105440</td>\n",
       "      <td>7.644</td>\n",
       "      <td>1</td>\n",
       "    </tr>\n",
       "    <tr>\n",
       "      <th>217</th>\n",
       "      <td>217</td>\n",
       "      <td>SG충방</td>\n",
       "      <td>-4.542887</td>\n",
       "      <td>23.564101</td>\n",
       "      <td>-5.713187</td>\n",
       "      <td>-0.034536</td>\n",
       "      <td>-0.096798</td>\n",
       "      <td>26.411</td>\n",
       "      <td>1</td>\n",
       "    </tr>\n",
       "    <tr>\n",
       "      <th>218</th>\n",
       "      <td>218</td>\n",
       "      <td>사조대림</td>\n",
       "      <td>3.947057</td>\n",
       "      <td>57.018286</td>\n",
       "      <td>-0.287269</td>\n",
       "      <td>0.023456</td>\n",
       "      <td>0.038784</td>\n",
       "      <td>8.473</td>\n",
       "      <td>1</td>\n",
       "    </tr>\n",
       "    <tr>\n",
       "      <th>219</th>\n",
       "      <td>219</td>\n",
       "      <td>일성신약</td>\n",
       "      <td>-753.948588</td>\n",
       "      <td>-857.389017</td>\n",
       "      <td>9.501908</td>\n",
       "      <td>0.003441</td>\n",
       "      <td>0.020134</td>\n",
       "      <td>13.153</td>\n",
       "      <td>1</td>\n",
       "    </tr>\n",
       "  </tbody>\n",
       "</table>\n",
       "<p>220 rows × 9 columns</p>\n",
       "</div>"
      ],
      "text/plain": [
       "     Unnamed: 0     종목명  stability_1  stability_2  profitability  activity_1  \\\n",
       "0             0     파미셀    -2.450988    -3.844951       6.871194    0.031037   \n",
       "1             1    KTis    47.418488   266.270885       2.951492    0.044119   \n",
       "2             2  롯데관광개발   -33.779365   144.174054      -2.553168   -0.028094   \n",
       "3             3    부산주공     2.038447   -40.947988      -7.653198   -0.031648   \n",
       "4             4   더존비즈온    22.651366    92.133610       7.018523    0.091878   \n",
       "..          ...     ...          ...          ...            ...         ...   \n",
       "215         215   STX엔진    -0.803236     9.853248     -75.621361   -0.045609   \n",
       "216         216    대양금속   -11.548827    82.670781     -17.250448   -0.100151   \n",
       "217         217    SG충방    -4.542887    23.564101      -5.713187   -0.034536   \n",
       "218         218    사조대림     3.947057    57.018286      -0.287269    0.023456   \n",
       "219         219    일성신약  -753.948588  -857.389017       9.501908    0.003441   \n",
       "\n",
       "     activity_2  growthability  decision  \n",
       "0      0.167158         14.568         0  \n",
       "1      0.095836          0.044         0  \n",
       "2     -0.059981         16.265         0  \n",
       "3     -0.035424          0.377         0  \n",
       "4      0.183502         15.745         0  \n",
       "..          ...            ...       ...  \n",
       "215   -0.043289        -31.665         1  \n",
       "216   -0.105440          7.644         1  \n",
       "217   -0.096798         26.411         1  \n",
       "218    0.038784          8.473         1  \n",
       "219    0.020134         13.153         1  \n",
       "\n",
       "[220 rows x 9 columns]"
      ]
     },
     "execution_count": 243,
     "metadata": {},
     "output_type": "execute_result"
    }
   ],
   "source": [
    "df2 = pd.read_excel(\"data_input_1.xlsx\")\n",
    "df2"
   ]
  },
  {
   "cell_type": "code",
   "execution_count": 256,
   "id": "arctic-corruption",
   "metadata": {},
   "outputs": [
    {
     "data": {
      "text/plain": [
       "0.8181818181818182"
      ]
     },
     "execution_count": 256,
     "metadata": {},
     "output_type": "execute_result"
    }
   ],
   "source": [
    "\n",
    "x2 = df2.iloc[:,2:8]\n",
    "y2 = df2[\"decision\"]\n",
    "\n",
    "\n",
    "\n",
    "X2_train, X2_test, y2_train, y2_test = train_test_split(x2, y2, test_size=0.2, random_state=121)\n",
    "\n",
    "\n",
    "dtree = DecisionTreeClassifier()\n",
    "dtree.fit(X2_train,y2_train)\n",
    "\n",
    "dtree.score(X2_test,y2_test)"
   ]
  },
  {
   "cell_type": "code",
   "execution_count": 257,
   "id": "beneficial-syndrome",
   "metadata": {},
   "outputs": [
    {
     "data": {
      "text/plain": [
       "array([[33,  4],\n",
       "       [ 4,  3]], dtype=int64)"
      ]
     },
     "execution_count": 257,
     "metadata": {},
     "output_type": "execute_result"
    }
   ],
   "source": [
    "y_pred = dtree.predict(X2_test)\n",
    "confusion_matrix(y2_test.values, y_pred, labels=[0,1])"
   ]
  },
  {
   "cell_type": "code",
   "execution_count": 258,
   "id": "extended-albuquerque",
   "metadata": {},
   "outputs": [
    {
     "data": {
      "text/html": [
       "<div>\n",
       "<style scoped>\n",
       "    .dataframe tbody tr th:only-of-type {\n",
       "        vertical-align: middle;\n",
       "    }\n",
       "\n",
       "    .dataframe tbody tr th {\n",
       "        vertical-align: top;\n",
       "    }\n",
       "\n",
       "    .dataframe thead th {\n",
       "        text-align: right;\n",
       "    }\n",
       "</style>\n",
       "<table border=\"1\" class=\"dataframe\">\n",
       "  <thead>\n",
       "    <tr style=\"text-align: right;\">\n",
       "      <th></th>\n",
       "      <th>params</th>\n",
       "      <th>mean_test_score</th>\n",
       "      <th>rank_test_score</th>\n",
       "      <th>split0_test_score</th>\n",
       "      <th>split1_test_score</th>\n",
       "      <th>split2_test_score</th>\n",
       "      <th>split3_test_score</th>\n",
       "    </tr>\n",
       "  </thead>\n",
       "  <tbody>\n",
       "    <tr>\n",
       "      <th>0</th>\n",
       "      <td>{'max_depth': 1, 'min_samples_split': 2, 'spli...</td>\n",
       "      <td>0.914773</td>\n",
       "      <td>1</td>\n",
       "      <td>0.954545</td>\n",
       "      <td>0.886364</td>\n",
       "      <td>0.909091</td>\n",
       "      <td>0.909091</td>\n",
       "    </tr>\n",
       "    <tr>\n",
       "      <th>2</th>\n",
       "      <td>{'max_depth': 1, 'min_samples_split': 3, 'spli...</td>\n",
       "      <td>0.914773</td>\n",
       "      <td>1</td>\n",
       "      <td>0.954545</td>\n",
       "      <td>0.886364</td>\n",
       "      <td>0.909091</td>\n",
       "      <td>0.909091</td>\n",
       "    </tr>\n",
       "    <tr>\n",
       "      <th>4</th>\n",
       "      <td>{'max_depth': 1, 'min_samples_split': 4, 'spli...</td>\n",
       "      <td>0.914773</td>\n",
       "      <td>1</td>\n",
       "      <td>0.954545</td>\n",
       "      <td>0.886364</td>\n",
       "      <td>0.909091</td>\n",
       "      <td>0.909091</td>\n",
       "    </tr>\n",
       "    <tr>\n",
       "      <th>12</th>\n",
       "      <td>{'max_depth': 3, 'min_samples_split': 2, 'spli...</td>\n",
       "      <td>0.909091</td>\n",
       "      <td>4</td>\n",
       "      <td>0.931818</td>\n",
       "      <td>0.840909</td>\n",
       "      <td>0.931818</td>\n",
       "      <td>0.931818</td>\n",
       "    </tr>\n",
       "    <tr>\n",
       "      <th>14</th>\n",
       "      <td>{'max_depth': 3, 'min_samples_split': 3, 'spli...</td>\n",
       "      <td>0.909091</td>\n",
       "      <td>4</td>\n",
       "      <td>0.931818</td>\n",
       "      <td>0.840909</td>\n",
       "      <td>0.931818</td>\n",
       "      <td>0.931818</td>\n",
       "    </tr>\n",
       "    <tr>\n",
       "      <th>16</th>\n",
       "      <td>{'max_depth': 3, 'min_samples_split': 4, 'spli...</td>\n",
       "      <td>0.903409</td>\n",
       "      <td>6</td>\n",
       "      <td>0.931818</td>\n",
       "      <td>0.840909</td>\n",
       "      <td>0.909091</td>\n",
       "      <td>0.931818</td>\n",
       "    </tr>\n",
       "    <tr>\n",
       "      <th>6</th>\n",
       "      <td>{'max_depth': 2, 'min_samples_split': 2, 'spli...</td>\n",
       "      <td>0.892045</td>\n",
       "      <td>7</td>\n",
       "      <td>0.886364</td>\n",
       "      <td>0.840909</td>\n",
       "      <td>0.909091</td>\n",
       "      <td>0.931818</td>\n",
       "    </tr>\n",
       "    <tr>\n",
       "      <th>8</th>\n",
       "      <td>{'max_depth': 2, 'min_samples_split': 3, 'spli...</td>\n",
       "      <td>0.892045</td>\n",
       "      <td>7</td>\n",
       "      <td>0.886364</td>\n",
       "      <td>0.840909</td>\n",
       "      <td>0.909091</td>\n",
       "      <td>0.931818</td>\n",
       "    </tr>\n",
       "    <tr>\n",
       "      <th>10</th>\n",
       "      <td>{'max_depth': 2, 'min_samples_split': 4, 'spli...</td>\n",
       "      <td>0.892045</td>\n",
       "      <td>7</td>\n",
       "      <td>0.886364</td>\n",
       "      <td>0.840909</td>\n",
       "      <td>0.909091</td>\n",
       "      <td>0.931818</td>\n",
       "    </tr>\n",
       "    <tr>\n",
       "      <th>13</th>\n",
       "      <td>{'max_depth': 3, 'min_samples_split': 2, 'spli...</td>\n",
       "      <td>0.892045</td>\n",
       "      <td>7</td>\n",
       "      <td>0.886364</td>\n",
       "      <td>0.840909</td>\n",
       "      <td>0.909091</td>\n",
       "      <td>0.931818</td>\n",
       "    </tr>\n",
       "    <tr>\n",
       "      <th>7</th>\n",
       "      <td>{'max_depth': 2, 'min_samples_split': 2, 'spli...</td>\n",
       "      <td>0.886364</td>\n",
       "      <td>11</td>\n",
       "      <td>0.886364</td>\n",
       "      <td>0.863636</td>\n",
       "      <td>0.909091</td>\n",
       "      <td>0.886364</td>\n",
       "    </tr>\n",
       "    <tr>\n",
       "      <th>1</th>\n",
       "      <td>{'max_depth': 1, 'min_samples_split': 2, 'spli...</td>\n",
       "      <td>0.886364</td>\n",
       "      <td>11</td>\n",
       "      <td>0.886364</td>\n",
       "      <td>0.886364</td>\n",
       "      <td>0.886364</td>\n",
       "      <td>0.886364</td>\n",
       "    </tr>\n",
       "    <tr>\n",
       "      <th>17</th>\n",
       "      <td>{'max_depth': 3, 'min_samples_split': 4, 'spli...</td>\n",
       "      <td>0.880682</td>\n",
       "      <td>13</td>\n",
       "      <td>0.886364</td>\n",
       "      <td>0.863636</td>\n",
       "      <td>0.909091</td>\n",
       "      <td>0.863636</td>\n",
       "    </tr>\n",
       "    <tr>\n",
       "      <th>11</th>\n",
       "      <td>{'max_depth': 2, 'min_samples_split': 4, 'spli...</td>\n",
       "      <td>0.880682</td>\n",
       "      <td>13</td>\n",
       "      <td>0.886364</td>\n",
       "      <td>0.840909</td>\n",
       "      <td>0.886364</td>\n",
       "      <td>0.909091</td>\n",
       "    </tr>\n",
       "    <tr>\n",
       "      <th>5</th>\n",
       "      <td>{'max_depth': 1, 'min_samples_split': 4, 'spli...</td>\n",
       "      <td>0.880682</td>\n",
       "      <td>13</td>\n",
       "      <td>0.886364</td>\n",
       "      <td>0.863636</td>\n",
       "      <td>0.909091</td>\n",
       "      <td>0.863636</td>\n",
       "    </tr>\n",
       "    <tr>\n",
       "      <th>15</th>\n",
       "      <td>{'max_depth': 3, 'min_samples_split': 3, 'spli...</td>\n",
       "      <td>0.875000</td>\n",
       "      <td>16</td>\n",
       "      <td>0.886364</td>\n",
       "      <td>0.886364</td>\n",
       "      <td>0.863636</td>\n",
       "      <td>0.863636</td>\n",
       "    </tr>\n",
       "    <tr>\n",
       "      <th>9</th>\n",
       "      <td>{'max_depth': 2, 'min_samples_split': 3, 'spli...</td>\n",
       "      <td>0.863636</td>\n",
       "      <td>17</td>\n",
       "      <td>0.886364</td>\n",
       "      <td>0.863636</td>\n",
       "      <td>0.863636</td>\n",
       "      <td>0.840909</td>\n",
       "    </tr>\n",
       "    <tr>\n",
       "      <th>3</th>\n",
       "      <td>{'max_depth': 1, 'min_samples_split': 3, 'spli...</td>\n",
       "      <td>0.857955</td>\n",
       "      <td>18</td>\n",
       "      <td>0.886364</td>\n",
       "      <td>0.863636</td>\n",
       "      <td>0.863636</td>\n",
       "      <td>0.818182</td>\n",
       "    </tr>\n",
       "  </tbody>\n",
       "</table>\n",
       "</div>"
      ],
      "text/plain": [
       "                                               params  mean_test_score  \\\n",
       "0   {'max_depth': 1, 'min_samples_split': 2, 'spli...         0.914773   \n",
       "2   {'max_depth': 1, 'min_samples_split': 3, 'spli...         0.914773   \n",
       "4   {'max_depth': 1, 'min_samples_split': 4, 'spli...         0.914773   \n",
       "12  {'max_depth': 3, 'min_samples_split': 2, 'spli...         0.909091   \n",
       "14  {'max_depth': 3, 'min_samples_split': 3, 'spli...         0.909091   \n",
       "16  {'max_depth': 3, 'min_samples_split': 4, 'spli...         0.903409   \n",
       "6   {'max_depth': 2, 'min_samples_split': 2, 'spli...         0.892045   \n",
       "8   {'max_depth': 2, 'min_samples_split': 3, 'spli...         0.892045   \n",
       "10  {'max_depth': 2, 'min_samples_split': 4, 'spli...         0.892045   \n",
       "13  {'max_depth': 3, 'min_samples_split': 2, 'spli...         0.892045   \n",
       "7   {'max_depth': 2, 'min_samples_split': 2, 'spli...         0.886364   \n",
       "1   {'max_depth': 1, 'min_samples_split': 2, 'spli...         0.886364   \n",
       "17  {'max_depth': 3, 'min_samples_split': 4, 'spli...         0.880682   \n",
       "11  {'max_depth': 2, 'min_samples_split': 4, 'spli...         0.880682   \n",
       "5   {'max_depth': 1, 'min_samples_split': 4, 'spli...         0.880682   \n",
       "15  {'max_depth': 3, 'min_samples_split': 3, 'spli...         0.875000   \n",
       "9   {'max_depth': 2, 'min_samples_split': 3, 'spli...         0.863636   \n",
       "3   {'max_depth': 1, 'min_samples_split': 3, 'spli...         0.857955   \n",
       "\n",
       "    rank_test_score  split0_test_score  split1_test_score  split2_test_score  \\\n",
       "0                 1           0.954545           0.886364           0.909091   \n",
       "2                 1           0.954545           0.886364           0.909091   \n",
       "4                 1           0.954545           0.886364           0.909091   \n",
       "12                4           0.931818           0.840909           0.931818   \n",
       "14                4           0.931818           0.840909           0.931818   \n",
       "16                6           0.931818           0.840909           0.909091   \n",
       "6                 7           0.886364           0.840909           0.909091   \n",
       "8                 7           0.886364           0.840909           0.909091   \n",
       "10                7           0.886364           0.840909           0.909091   \n",
       "13                7           0.886364           0.840909           0.909091   \n",
       "7                11           0.886364           0.863636           0.909091   \n",
       "1                11           0.886364           0.886364           0.886364   \n",
       "17               13           0.886364           0.863636           0.909091   \n",
       "11               13           0.886364           0.840909           0.886364   \n",
       "5                13           0.886364           0.863636           0.909091   \n",
       "15               16           0.886364           0.886364           0.863636   \n",
       "9                17           0.886364           0.863636           0.863636   \n",
       "3                18           0.886364           0.863636           0.863636   \n",
       "\n",
       "    split3_test_score  \n",
       "0            0.909091  \n",
       "2            0.909091  \n",
       "4            0.909091  \n",
       "12           0.931818  \n",
       "14           0.931818  \n",
       "16           0.931818  \n",
       "6            0.931818  \n",
       "8            0.931818  \n",
       "10           0.931818  \n",
       "13           0.931818  \n",
       "7            0.886364  \n",
       "1            0.886364  \n",
       "17           0.863636  \n",
       "11           0.909091  \n",
       "5            0.863636  \n",
       "15           0.863636  \n",
       "9            0.840909  \n",
       "3            0.818182  "
      ]
     },
     "execution_count": 258,
     "metadata": {},
     "output_type": "execute_result"
    }
   ],
   "source": [
    "# 의사결정 트리 모델의 최적 파라미터 찾기\n",
    "\n",
    "parameters = {'max_depth':[1,2,3], 'min_samples_split':[2,3,4], 'splitter' : ['best','random'] }\n",
    "\n",
    "grid_dtree = GridSearchCV(dtree, param_grid=parameters, cv=4, refit=True)\n",
    "\n",
    "grid_dtree.fit(X2_train, y2_train)\n",
    "\n",
    "scores_df = pd.DataFrame(grid_dtree.cv_results_)\n",
    "scores_df[['params', 'mean_test_score', 'rank_test_score', \\\n",
    "           'split0_test_score', 'split1_test_score', 'split2_test_score','split3_test_score']].sort_values(\"mean_test_score\",ascending=False)"
   ]
  },
  {
   "cell_type": "code",
   "execution_count": 259,
   "id": "consecutive-transport",
   "metadata": {},
   "outputs": [
    {
     "data": {
      "text/plain": [
       "{'max_depth': 1, 'min_samples_split': 2, 'splitter': 'best'}"
      ]
     },
     "execution_count": 259,
     "metadata": {},
     "output_type": "execute_result"
    }
   ],
   "source": [
    "grid_dtree.best_params_"
   ]
  },
  {
   "cell_type": "code",
   "execution_count": 294,
   "id": "spread-concentrate",
   "metadata": {},
   "outputs": [
    {
     "name": "stdout",
     "output_type": "stream",
     "text": [
      "정확도:0.9318\n"
     ]
    }
   ],
   "source": [
    "# 최적 파라미터  설정해보기\n",
    "\n",
    "from sklearn.metrics import accuracy_score\n",
    "\n",
    "best = grid_dtree.best_estimator_\n",
    "\n",
    "pred = best.predict(X2_test)\n",
    "print('정확도:{:.4f}'.format(accuracy_score(y2_test, pred)))"
   ]
  },
  {
   "cell_type": "code",
   "execution_count": 295,
   "id": "restricted-durham",
   "metadata": {},
   "outputs": [
    {
     "data": {
      "text/plain": [
       "array([[36,  1],\n",
       "       [ 2,  5]], dtype=int64)"
      ]
     },
     "execution_count": 295,
     "metadata": {},
     "output_type": "execute_result"
    }
   ],
   "source": [
    "# 최적 파라미터 적용 후 컨퓨전매트릭스\n",
    "\n",
    "confusion_matrix(y2_test.values, pred, labels=[0,1])"
   ]
  },
  {
   "cell_type": "code",
   "execution_count": null,
   "id": "banner-separate",
   "metadata": {},
   "outputs": [],
   "source": []
  },
  {
   "cell_type": "code",
   "execution_count": 318,
   "id": "civic-helmet",
   "metadata": {},
   "outputs": [
    {
     "data": {
      "text/plain": [
       "0.9318181818181818"
      ]
     },
     "execution_count": 318,
     "metadata": {},
     "output_type": "execute_result"
    }
   ],
   "source": [
    "# 피쳐 6개로 랜덤포레스트 모델 적용\n",
    "\n",
    "from sklearn.ensemble import RandomForestClassifier\n",
    "\n",
    "rf = RandomForestClassifier()\n",
    "rf.fit(X2_train,y2_train)\n",
    "\n",
    "rf.score(X2_test,y2_test)"
   ]
  },
  {
   "cell_type": "code",
   "execution_count": 319,
   "id": "sensitive-familiar",
   "metadata": {},
   "outputs": [
    {
     "data": {
      "text/plain": [
       "array([[36,  1],\n",
       "       [ 2,  5]], dtype=int64)"
      ]
     },
     "execution_count": 319,
     "metadata": {},
     "output_type": "execute_result"
    }
   ],
   "source": [
    "y_rf_pred = rf.predict(X2_test)\n",
    "confusion_matrix(y2_test.values, y_rf_pred, labels=[0,1])"
   ]
  },
  {
   "cell_type": "code",
   "execution_count": 320,
   "id": "liquid-substitute",
   "metadata": {},
   "outputs": [
    {
     "name": "stdout",
     "output_type": "stream",
     "text": [
      "Feature ranking:\n",
      "1. feature 2 (0.357507)\n",
      "2. feature 3 (0.151880)\n",
      "3. feature 4 (0.134130)\n",
      "4. feature 0 (0.125180)\n",
      "5. feature 5 (0.120796)\n",
      "6. feature 1 (0.110508)\n"
     ]
    }
   ],
   "source": [
    "# 랜덤포레스트 피쳐 중요도 확인\n",
    "\n",
    "importances = rf.feature_importances_\n",
    "std = np.std([tree.feature_importances_ for tree in rf.estimators_],\n",
    "             axis=0)\n",
    "indices = np.argsort(importances)[::-1]\n",
    "\n",
    "# Print the feature ranking\n",
    "print(\"Feature ranking:\")\n",
    "\n",
    "for f in range(x2.shape[1]):\n",
    "    print(\"%d. feature %d (%f)\" % (f + 1, indices[f], importances[indices[f]]))"
   ]
  },
  {
   "cell_type": "code",
   "execution_count": 351,
   "id": "sticky-morocco",
   "metadata": {},
   "outputs": [
    {
     "data": {
      "text/plain": [
       "array([0.95454545, 0.86363636, 0.90909091, 0.95454545, 0.86363636,\n",
       "       0.86363636, 0.90909091, 0.95454545, 1.        , 0.86363636])"
      ]
     },
     "execution_count": 351,
     "metadata": {},
     "output_type": "execute_result"
    }
   ],
   "source": [
    "\n",
    "\n",
    "from sklearn.model_selection import cross_val_score\n",
    "\n",
    "random_forest_scores = cross_val_score(rf, x2, y2, cv=10)\n",
    "decision_tree_scores = cross_val_score(best, x2, y2, cv=10)\n",
    "\n",
    "random_forest_scores\n"
   ]
  },
  {
   "cell_type": "code",
   "execution_count": 352,
   "id": "external-central",
   "metadata": {},
   "outputs": [
    {
     "data": {
      "text/plain": [
       "array([1.        , 0.86363636, 0.95454545, 0.95454545, 0.86363636,\n",
       "       0.86363636, 0.90909091, 1.        , 1.        , 0.86363636])"
      ]
     },
     "execution_count": 352,
     "metadata": {},
     "output_type": "execute_result"
    }
   ],
   "source": [
    "decision_tree_scores"
   ]
  },
  {
   "cell_type": "code",
   "execution_count": 353,
   "id": "cooperative-houston",
   "metadata": {},
   "outputs": [
    {
     "data": {
      "image/png": "[encoded data removed]",
      "text/plain": [
       "<Figure size 432x288 with 1 Axes>"
      ]
     },
     "metadata": {
      "needs_background": "light"
     },
     "output_type": "display_data"
    }
   ],
   "source": [
    "import matplotlib.pyplot as plt\n",
    "\n",
    "plt.plot(range(10),random_forest_scores,range(10),decision_tree_scores)\n",
    "plt.legend(['rf','dt'])\n",
    "plt.show()"
   ]
  },
  {
   "cell_type": "code",
   "execution_count": null,
   "id": "former-outside",
   "metadata": {},
   "outputs": [],
   "source": []
  },
  {
   "cell_type": "code",
   "execution_count": null,
   "id": "assigned-episode",
   "metadata": {},
   "outputs": [],
   "source": []
  },
  {
   "cell_type": "code",
   "execution_count": null,
   "id": "commercial-pharmacology",
   "metadata": {},
   "outputs": [],
   "source": []
  },
  {
   "cell_type": "code",
   "execution_count": null,
   "id": "embedded-computer",
   "metadata": {},
   "outputs": [],
   "source": []
  },
  {
   "cell_type": "code",
   "execution_count": null,
   "id": "least-ceramic",
   "metadata": {},
   "outputs": [],
   "source": []
  },
  {
   "cell_type": "code",
   "execution_count": null,
   "id": "interested-bronze",
   "metadata": {},
   "outputs": [],
   "source": []
  },
  {
   "cell_type": "code",
   "execution_count": null,
   "id": "scientific-cooperation",
   "metadata": {},
   "outputs": [],
   "source": []
  },
  {
   "cell_type": "code",
   "execution_count": null,
   "id": "satisfactory-absence",
   "metadata": {},
   "outputs": [],
   "source": []
  },
  {
   "cell_type": "code",
   "execution_count": 8,
   "id": "checked-intervention",
   "metadata": {},
   "outputs": [],
   "source": [
    "import pickle\n",
    "\n",
    "#저장\n",
    "with open(\"tree.model\", \"wb\") as f :\n",
    "    pickle.dump(dtree, f)"
   ]
  },
  {
   "cell_type": "code",
   "execution_count": 9,
   "id": "signed-california",
   "metadata": {},
   "outputs": [
    {
     "data": {
      "text/plain": [
       "DecisionTreeClassifier()"
      ]
     },
     "execution_count": 9,
     "metadata": {},
     "output_type": "execute_result"
    }
   ],
   "source": [
    "with open(\"tree.model\", \"rb\") as f:\n",
    "    tree_from_file = pickle.load(f)\n",
    "    \n",
    "tree_from_file"
   ]
  },
  {
   "cell_type": "code",
   "execution_count": null,
   "id": "crazy-forum",
   "metadata": {},
   "outputs": [],
   "source": []
  },
  {
   "cell_type": "code",
   "execution_count": null,
   "id": "union-respect",
   "metadata": {},
   "outputs": [],
   "source": []
  },
  {
   "cell_type": "code",
   "execution_count": null,
   "id": "damaged-timothy",
   "metadata": {},
   "outputs": [],
   "source": []
  },
  {
   "cell_type": "code",
   "execution_count": null,
   "id": "elder-glass",
   "metadata": {},
   "outputs": [],
   "source": []
  }
 ],
 "metadata": {
  "kernelspec": {
   "display_name": "Python 3",
   "language": "python",
   "name": "python3"
  },
  "language_info": {
   "codemirror_mode": {
    "name": "ipython",
    "version": 3
   },
   "file_extension": ".py",
   "mimetype": "text/x-python",
   "name": "python",
   "nbconvert_exporter": "python",
   "pygments_lexer": "ipython3",
   "version": "3.8.8"
  }
 },
 "nbformat": 4,
 "nbformat_minor": 5
}
